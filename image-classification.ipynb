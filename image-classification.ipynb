{
 "cells": [
  {
   "cell_type": "code",
   "execution_count": 1,
   "metadata": {
    "collapsed": false
   },
   "outputs": [],
   "source": [
    "import numpy as np\n",
    "import pandas as pd\n",
    "import os"
   ]
  },
  {
   "cell_type": "code",
   "execution_count": 2,
   "metadata": {
    "collapsed": false
   },
   "outputs": [
    {
     "name": "stdout",
     "output_type": "stream",
     "text": [
      "CPU times: user 3.33 s, sys: 377 ms, total: 3.71 s\n",
      "Wall time: 3.72 s\n",
      "CPU times: user 2.21 s, sys: 192 ms, total: 2.4 s\n",
      "Wall time: 2.41 s\n",
      "(42000, 784)\n"
     ]
    }
   ],
   "source": [
    "## Load data\n",
    "%time train = pd.read_csv('./data/train.csv')\n",
    "%time test = pd.read_csv('./data/test.csv')\n",
    "\n",
    "### Use the first column as the label then remove from dataframe\n",
    "label = train.label\n",
    "\n",
    "del train['label']\n",
    "\n",
    "print('Dimensions of training data:')\n",
    "print(train.shape)"
   ]
  },
  {
   "cell_type": "code",
   "execution_count": 3,
   "metadata": {
    "collapsed": false
   },
   "outputs": [
    {
     "name": "stdout",
     "output_type": "stream",
     "text": [
      "0.822666666667\n",
      "0.561333333333\n",
      "0.831904761905\n"
     ]
    }
   ],
   "source": [
    "### Let's just try to use bayes\n",
    "\n",
    "from sklearn.naive_bayes import MultinomialNB, GaussianNB, BernoulliNB\n",
    "from sklearn.metrics import accuracy_score\n",
    "from sklearn.model_selection import train_test_split\n",
    "\n",
    "X_train, X_test, y_train, y_test = train_test_split(train.values, label.values, random_state=2)\n",
    "\n",
    "\n",
    "mnb_cf = MultinomialNB()\n",
    "mnb_cf.fit(X_train, y_train)\n",
    "\n",
    "y_hat = mnb_cf.predict(X_test)\n",
    "\n",
    "print(accuracy_score(y_test, y_hat))\n",
    "\n",
    "gnb_cf = GaussianNB()\n",
    "gnb_cf.fit(X_train, y_train)\n",
    "\n",
    "y_hat = gnb_cf.predict(X_test)\n",
    "\n",
    "print(accuracy_score(y_test, y_hat))\n",
    "\n",
    "\n",
    "bnb_cf = BernoulliNB()\n",
    "bnb_cf.fit(X_train, y_train)\n",
    "\n",
    "y_hat = bnb_cf.predict(X_test)\n",
    "\n",
    "print(accuracy_score(y_test, y_hat))\n",
    "\n"
   ]
  },
  {
   "cell_type": "code",
   "execution_count": 4,
   "metadata": {
    "collapsed": false
   },
   "outputs": [],
   "source": [
    "def create_output_csv(model):\n",
    "    y_hat = model.predict(test)\n",
    "    df = pd.DataFrame({'ImageId': range(1,len(y_hat)+1), 'Label': y_hat})\n",
    "    df.to_csv('submission.csv', index=False)\n",
    "create_output_csv(bnb_cf)\n",
    "\n",
    "print('Submission file saved to submission.csv')"
   ]
  }
 ],
 "metadata": {
  "kernelspec": {
   "display_name": "Python 3",
   "language": "python",
   "name": "python3"
  },
  "language_info": {
   "codemirror_mode": {
    "name": "ipython",
    "version": 3
   },
   "file_extension": ".py",
   "mimetype": "text/x-python",
   "name": "python",
   "nbconvert_exporter": "python",
   "pygments_lexer": "ipython3",
   "version": "3.6.0"
  }
 },
 "nbformat": 4,
 "nbformat_minor": 2
}
