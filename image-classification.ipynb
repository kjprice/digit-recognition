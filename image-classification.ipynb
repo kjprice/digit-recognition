{
 "cells": [
  {
   "cell_type": "code",
   "execution_count": 1,
   "metadata": {
    "collapsed": false
   },
   "outputs": [],
   "source": [
    "import numpy as np\n",
    "import pandas as pd\n",
    "import matplotlib.pyplot as plt\n",
    "from sklearn.linear_model import SGDClassifier"
   ]
  },
  {
   "cell_type": "code",
   "execution_count": 2,
   "metadata": {
    "collapsed": false
   },
   "outputs": [],
   "source": [
    "## Let's not run the slow scripts *everytime*\n",
    "run_everything = False"
   ]
  },
  {
   "cell_type": "code",
   "execution_count": 3,
   "metadata": {
    "collapsed": false
   },
   "outputs": [
    {
     "name": "stdout",
     "output_type": "stream",
     "text": [
      "CPU times: user 3.4 s, sys: 408 ms, total: 3.81 s\n",
      "Wall time: 3.87 s\n",
      "CPU times: user 2.23 s, sys: 214 ms, total: 2.44 s\n",
      "Wall time: 2.48 s\n",
      "Dimensions of training data:\n",
      "(42000, 784)\n"
     ]
    }
   ],
   "source": [
    "## Load data\n",
    "%time train = pd.read_csv('./data/train.csv')\n",
    "%time test = pd.read_csv('./data/test.csv')\n",
    "\n",
    "### Use the first column as the label then remove from dataframe\n",
    "label = train.label\n",
    "\n",
    "del train['label']\n",
    "\n",
    "print('Dimensions of training data:')\n",
    "print(train.shape)"
   ]
  },
  {
   "cell_type": "markdown",
   "metadata": {},
   "source": [
    "# Naive Bayes"
   ]
  },
  {
   "cell_type": "code",
   "execution_count": 4,
   "metadata": {
    "collapsed": false
   },
   "outputs": [
    {
     "name": "stdout",
     "output_type": "stream",
     "text": [
      "0.822666666667\n",
      "0.561333333333\n",
      "0.831904761905\n"
     ]
    }
   ],
   "source": [
    "### Let's just try to use bayes\n",
    "\n",
    "from sklearn.naive_bayes import MultinomialNB, GaussianNB, BernoulliNB\n",
    "from sklearn.metrics import accuracy_score\n",
    "from sklearn.model_selection import train_test_split\n",
    "\n",
    "X_train, X_test, y_train, y_test = train_test_split(train, label, random_state=2)\n",
    "\n",
    "\n",
    "mnb_cf = MultinomialNB()\n",
    "mnb_cf.fit(X_train, y_train)\n",
    "\n",
    "y_hat = mnb_cf.predict(X_test)\n",
    "\n",
    "print(accuracy_score(y_test, y_hat))\n",
    "\n",
    "gnb_cf = GaussianNB()\n",
    "gnb_cf.fit(X_train, y_train)\n",
    "\n",
    "y_hat = gnb_cf.predict(X_test)\n",
    "\n",
    "print(accuracy_score(y_test, y_hat))\n",
    "\n",
    "\n",
    "bnb_cf = BernoulliNB()\n",
    "bnb_cf.fit(X_train, y_train)\n",
    "\n",
    "y_hat = bnb_cf.predict(X_test)\n",
    "\n",
    "print(accuracy_score(y_test, y_hat))\n",
    "\n"
   ]
  },
  {
   "cell_type": "markdown",
   "metadata": {},
   "source": [
    "# Beginner's Approach to classification\n",
    "\n",
    "Based on https://www.kaggle.com/archaeocharlie/a-beginner-s-approach-to-classification"
   ]
  },
  {
   "cell_type": "markdown",
   "metadata": {},
   "source": [
    "## Viewing image "
   ]
  },
  {
   "cell_type": "code",
   "execution_count": 5,
   "metadata": {
    "collapsed": false
   },
   "outputs": [
    {
     "data": {
      "image/png": "[encoded data removed]",
      "text/plain": [
       "<matplotlib.figure.Figure at 0x1184dbb38>"
      ]
     },
     "metadata": {},
     "output_type": "display_data"
    }
   ],
   "source": [
    "i=1\n",
    "img=X_train.iloc[i].as_matrix()\n",
    "img=img.reshape((28,28))\n",
    "plt.imshow(img,cmap='gray')\n",
    "plt.title(y_train.iloc[i])\n",
    "plt.show()"
   ]
  },
  {
   "cell_type": "markdown",
   "metadata": {},
   "source": [
    "## Examining pixels"
   ]
  },
  {
   "cell_type": "code",
   "execution_count": 6,
   "metadata": {
    "collapsed": false
   },
   "outputs": [
    {
     "data": {
      "image/png": "[encoded data removed]",
      "text/plain": [
       "<matplotlib.figure.Figure at 0x11477e5f8>"
      ]
     },
     "metadata": {},
     "output_type": "display_data"
    }
   ],
   "source": [
    "plt.hist(X_train.loc[i])\n",
    "plt.show()"
   ]
  },
  {
   "cell_type": "markdown",
   "metadata": {},
   "source": [
    "# Stochastic Gradient Decent"
   ]
  },
  {
   "cell_type": "code",
   "execution_count": 7,
   "metadata": {
    "collapsed": false
   },
   "outputs": [
    {
     "name": "stdout",
     "output_type": "stream",
     "text": [
      "0.8821904761904762\n"
     ]
    }
   ],
   "source": [
    "clf = SGDClassifier()\n",
    "if run_everything:\n",
    "    clf.fit(X_train, y_train.values.ravel())\n",
    "    clf.score(X_test, y_test)\n",
    "else:\n",
    "    print(0.88219047619047619)"
   ]
  },
  {
   "cell_type": "markdown",
   "metadata": {},
   "source": [
    "# KNN"
   ]
  },
  {
   "cell_type": "code",
   "execution_count": 8,
   "metadata": {
    "collapsed": false
   },
   "outputs": [
    {
     "name": "stdout",
     "output_type": "stream",
     "text": [
      "2min 3s\n",
      "0.9656190476190476\n"
     ]
    }
   ],
   "source": [
    "from sklearn.neighbors import KNeighborsClassifier\n",
    "if run_everything:\n",
    "    nbr = KNeighborsClassifier(n_neighbors=3, n_jobs=-1)\n",
    "    nbr.fit(X_train, y_train.values)\n",
    "\n",
    "    %time nbr.score(X_test, y_test)\n",
    "else:\n",
    "    print('2min 3s')\n",
    "    print(0.9656190476190476)"
   ]
  },
  {
   "cell_type": "markdown",
   "metadata": {},
   "source": [
    "## Create Submission\n",
    "\n",
    "Just call `create_output_csv` and pass in the model you wish to test on."
   ]
  },
  {
   "cell_type": "code",
   "execution_count": 9,
   "metadata": {
    "collapsed": false
   },
   "outputs": [
    {
     "name": "stdout",
     "output_type": "stream",
     "text": [
      "Submission file saved to submission.csv\n"
     ]
    }
   ],
   "source": [
    "def create_output_csv(model):\n",
    "    y_hat = model.predict(test)\n",
    "    df = pd.DataFrame({'ImageId': range(1,len(y_hat)+1), 'Label': y_hat})\n",
    "    df.to_csv('submission.csv', index=False)\n",
    "create_output_csv(bnb_cf)\n",
    "\n",
    "print('Submission file saved to submission.csv')"
   ]
  },
  {
   "cell_type": "code",
   "execution_count": 12,
   "metadata": {
    "collapsed": false
   },
   "outputs": [],
   "source": []
  }
 ],
 "metadata": {
  "kernelspec": {
   "display_name": "Python [default]",
   "language": "python",
   "name": "python3"
  },
  "language_info": {
   "codemirror_mode": {
    "name": "ipython",
    "version": 3
   },
   "file_extension": ".py",
   "mimetype": "text/x-python",
   "name": "python",
   "nbconvert_exporter": "python",
   "pygments_lexer": "ipython3",
   "version": "3.6.0"
  }
 },
 "nbformat": 4,
 "nbformat_minor": 2
}
